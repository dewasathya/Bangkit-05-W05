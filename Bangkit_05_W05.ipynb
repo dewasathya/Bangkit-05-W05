{
  "nbformat": 4,
  "nbformat_minor": 0,
  "metadata": {
    "colab": {
      "name": "Bangkit 05-W05.ipynb",
      "provenance": [],
      "collapsed_sections": [],
      "toc_visible": true
    },
    "kernelspec": {
      "name": "python3",
      "display_name": "Python 3"
    }
  },
  "cells": [
    {
      "cell_type": "markdown",
      "metadata": {
        "id": "EuqUAPkMt6hp",
        "colab_type": "text"
      },
      "source": [
        "Import libraries and check TF version."
      ]
    },
    {
      "cell_type": "code",
      "metadata": {
        "id": "D4DVtkd9CxEa",
        "colab_type": "code",
        "outputId": "607b16ed-bda2-48ee-d061-9f5c066d3b03",
        "colab": {
          "base_uri": "https://localhost:8080/",
          "height": 52
        }
      },
      "source": [
        "# TensorFlow Library\n",
        "%tensorflow_version 1.x\n",
        "import tensorflow as tf\n",
        "\n",
        "# Feature Engineering Library\n",
        "from sklearn.impute import SimpleImputer\n",
        "\n",
        "# Helper Library\n",
        "import numpy as np\n",
        "import pandas as pd\n",
        "import matplotlib.pyplot as plt\n",
        "\n",
        "print(tf.__version__)"
      ],
      "execution_count": 1,
      "outputs": [
        {
          "output_type": "stream",
          "text": [
            "TensorFlow 1.x selected.\n",
            "1.15.2\n"
          ],
          "name": "stdout"
        }
      ]
    },
    {
      "cell_type": "markdown",
      "metadata": {
        "id": "Jk9xIOT7t1W9",
        "colab_type": "text"
      },
      "source": [
        "Get dataset from Github repo and load it to Pandas."
      ]
    },
    {
      "cell_type": "code",
      "metadata": {
        "id": "L7lzcAZ1tnVl",
        "colab_type": "code",
        "colab": {}
      },
      "source": [
        "DS_TRAINING_URL = 'https://raw.githubusercontent.com/dewasathya/Bangkit-05-W05/master/titanic-extended/train.csv'\n",
        "DS_TEST_URL = 'https://raw.githubusercontent.com/dewasathya/Bangkit-05-W05/master/titanic-extended/test.csv'\n",
        "\n",
        "train_data = pd.read_csv(DS_TRAINING_URL)\n",
        "test_data = pd.read_csv(DS_TEST_URL)\n",
        "\n",
        "#train_data"
      ],
      "execution_count": 0,
      "outputs": []
    },
    {
      "cell_type": "markdown",
      "metadata": {
        "id": "vtTk5eG6GBqT",
        "colab_type": "text"
      },
      "source": [
        "Filling empty cells with values.\n"
      ]
    },
    {
      "cell_type": "code",
      "metadata": {
        "id": "qGIvJw57xZwg",
        "colab_type": "code",
        "colab": {}
      },
      "source": [
        "# Feature Engineering\n",
        "def nan_padding(data, columns):\n",
        "  for column in columns:\n",
        "    imputer = SimpleImputer()\n",
        "    data[column] = imputer.fit_transform(data[column].values.reshape(-1, 1))\n",
        "  return data\n",
        "\n",
        "nan_columns = [\"Age\", \"SibSp\", \"Parch\"]\n",
        "train_data = nan_padding(train_data, nan_columns)\n",
        "test_data = nan_padding(test_data, nan_columns)"
      ],
      "execution_count": 0,
      "outputs": []
    },
    {
      "cell_type": "markdown",
      "metadata": {
        "id": "DCl4simtHNHW",
        "colab_type": "text"
      },
      "source": [
        "Saving Passenger ID for final result."
      ]
    },
    {
      "cell_type": "code",
      "metadata": {
        "id": "UpSDzs1rzWEI",
        "colab_type": "code",
        "colab": {}
      },
      "source": [
        "# Save PassengerId for evaluation\n",
        "test_passenger_id = test_data[\"PassengerId\"]"
      ],
      "execution_count": 0,
      "outputs": []
    },
    {
      "cell_type": "markdown",
      "metadata": {
        "id": "Rv0yNEzMHWoe",
        "colab_type": "text"
      },
      "source": [
        "Dropping unnecessary columns from training and test dataset."
      ]
    },
    {
      "cell_type": "code",
      "metadata": {
        "id": "bvxWJ5O8zqXO",
        "colab_type": "code",
        "colab": {}
      },
      "source": [
        "# Drop not needed columns\n",
        "def drop_not_concerned(data, columns):\n",
        "  return data.drop(columns, axis=1)\n",
        "\n",
        "not_concerned_columns = [\n",
        "                         \"PassengerId\", \"Name\", \"Ticket\", \"Fare\",\n",
        "                         \"Cabin\", \"Embarked\", \"WikiId\", \"Name_wiki\",\n",
        "                         \"Age_wiki\", \"Hometown\", \"Boarded\", \"Destination\",\n",
        "                         \"Lifeboat\", \"Body\", \"Class\"\n",
        "]\n",
        "train_data = drop_not_concerned(train_data, not_concerned_columns)\n",
        "test_data = drop_not_concerned(test_data, not_concerned_columns)"
      ],
      "execution_count": 0,
      "outputs": []
    },
    {
      "cell_type": "code",
      "metadata": {
        "id": "y-npQKxU1KV-",
        "colab_type": "code",
        "outputId": "02c19111-8f5c-45b3-f7d6-dd97506809e6",
        "colab": {
          "base_uri": "https://localhost:8080/",
          "height": 202
        }
      },
      "source": [
        "train_data.head()"
      ],
      "execution_count": 6,
      "outputs": [
        {
          "output_type": "execute_result",
          "data": {
            "text/html": [
              "<div>\n",
              "<style scoped>\n",
              "    .dataframe tbody tr th:only-of-type {\n",
              "        vertical-align: middle;\n",
              "    }\n",
              "\n",
              "    .dataframe tbody tr th {\n",
              "        vertical-align: top;\n",
              "    }\n",
              "\n",
              "    .dataframe thead th {\n",
              "        text-align: right;\n",
              "    }\n",
              "</style>\n",
              "<table border=\"1\" class=\"dataframe\">\n",
              "  <thead>\n",
              "    <tr style=\"text-align: right;\">\n",
              "      <th></th>\n",
              "      <th>Survived</th>\n",
              "      <th>Pclass</th>\n",
              "      <th>Sex</th>\n",
              "      <th>Age</th>\n",
              "      <th>SibSp</th>\n",
              "      <th>Parch</th>\n",
              "    </tr>\n",
              "  </thead>\n",
              "  <tbody>\n",
              "    <tr>\n",
              "      <th>0</th>\n",
              "      <td>0.0</td>\n",
              "      <td>3</td>\n",
              "      <td>male</td>\n",
              "      <td>22.0</td>\n",
              "      <td>1.0</td>\n",
              "      <td>0.0</td>\n",
              "    </tr>\n",
              "    <tr>\n",
              "      <th>1</th>\n",
              "      <td>1.0</td>\n",
              "      <td>1</td>\n",
              "      <td>female</td>\n",
              "      <td>38.0</td>\n",
              "      <td>1.0</td>\n",
              "      <td>0.0</td>\n",
              "    </tr>\n",
              "    <tr>\n",
              "      <th>2</th>\n",
              "      <td>1.0</td>\n",
              "      <td>3</td>\n",
              "      <td>female</td>\n",
              "      <td>26.0</td>\n",
              "      <td>0.0</td>\n",
              "      <td>0.0</td>\n",
              "    </tr>\n",
              "    <tr>\n",
              "      <th>3</th>\n",
              "      <td>1.0</td>\n",
              "      <td>1</td>\n",
              "      <td>female</td>\n",
              "      <td>35.0</td>\n",
              "      <td>1.0</td>\n",
              "      <td>0.0</td>\n",
              "    </tr>\n",
              "    <tr>\n",
              "      <th>4</th>\n",
              "      <td>0.0</td>\n",
              "      <td>3</td>\n",
              "      <td>male</td>\n",
              "      <td>35.0</td>\n",
              "      <td>0.0</td>\n",
              "      <td>0.0</td>\n",
              "    </tr>\n",
              "  </tbody>\n",
              "</table>\n",
              "</div>"
            ],
            "text/plain": [
              "   Survived  Pclass     Sex   Age  SibSp  Parch\n",
              "0       0.0       3    male  22.0    1.0    0.0\n",
              "1       1.0       1  female  38.0    1.0    0.0\n",
              "2       1.0       3  female  26.0    0.0    0.0\n",
              "3       1.0       1  female  35.0    1.0    0.0\n",
              "4       0.0       3    male  35.0    0.0    0.0"
            ]
          },
          "metadata": {
            "tags": []
          },
          "execution_count": 6
        }
      ]
    },
    {
      "cell_type": "code",
      "metadata": {
        "id": "XwtultpioeRj",
        "colab_type": "code",
        "outputId": "bdaa5de8-5500-4a2b-d30a-e53c741dc903",
        "colab": {
          "base_uri": "https://localhost:8080/",
          "height": 202
        }
      },
      "source": [
        "test_data.head()"
      ],
      "execution_count": 7,
      "outputs": [
        {
          "output_type": "execute_result",
          "data": {
            "text/html": [
              "<div>\n",
              "<style scoped>\n",
              "    .dataframe tbody tr th:only-of-type {\n",
              "        vertical-align: middle;\n",
              "    }\n",
              "\n",
              "    .dataframe tbody tr th {\n",
              "        vertical-align: top;\n",
              "    }\n",
              "\n",
              "    .dataframe thead th {\n",
              "        text-align: right;\n",
              "    }\n",
              "</style>\n",
              "<table border=\"1\" class=\"dataframe\">\n",
              "  <thead>\n",
              "    <tr style=\"text-align: right;\">\n",
              "      <th></th>\n",
              "      <th>Pclass</th>\n",
              "      <th>Sex</th>\n",
              "      <th>Age</th>\n",
              "      <th>SibSp</th>\n",
              "      <th>Parch</th>\n",
              "    </tr>\n",
              "  </thead>\n",
              "  <tbody>\n",
              "    <tr>\n",
              "      <th>0</th>\n",
              "      <td>3</td>\n",
              "      <td>male</td>\n",
              "      <td>34.5</td>\n",
              "      <td>0.0</td>\n",
              "      <td>0.0</td>\n",
              "    </tr>\n",
              "    <tr>\n",
              "      <th>1</th>\n",
              "      <td>3</td>\n",
              "      <td>female</td>\n",
              "      <td>47.0</td>\n",
              "      <td>1.0</td>\n",
              "      <td>0.0</td>\n",
              "    </tr>\n",
              "    <tr>\n",
              "      <th>2</th>\n",
              "      <td>2</td>\n",
              "      <td>male</td>\n",
              "      <td>62.0</td>\n",
              "      <td>0.0</td>\n",
              "      <td>0.0</td>\n",
              "    </tr>\n",
              "    <tr>\n",
              "      <th>3</th>\n",
              "      <td>3</td>\n",
              "      <td>male</td>\n",
              "      <td>27.0</td>\n",
              "      <td>0.0</td>\n",
              "      <td>0.0</td>\n",
              "    </tr>\n",
              "    <tr>\n",
              "      <th>4</th>\n",
              "      <td>3</td>\n",
              "      <td>female</td>\n",
              "      <td>22.0</td>\n",
              "      <td>1.0</td>\n",
              "      <td>1.0</td>\n",
              "    </tr>\n",
              "  </tbody>\n",
              "</table>\n",
              "</div>"
            ],
            "text/plain": [
              "   Pclass     Sex   Age  SibSp  Parch\n",
              "0       3    male  34.5    0.0    0.0\n",
              "1       3  female  47.0    1.0    0.0\n",
              "2       2    male  62.0    0.0    0.0\n",
              "3       3    male  27.0    0.0    0.0\n",
              "4       3  female  22.0    1.0    1.0"
            ]
          },
          "metadata": {
            "tags": []
          },
          "execution_count": 7
        }
      ]
    },
    {
      "cell_type": "markdown",
      "metadata": {
        "id": "yUWcatMGHsCw",
        "colab_type": "text"
      },
      "source": [
        "Separate Pclass into 3 (Pclass_1, Pclass_2, Pclass_3)."
      ]
    },
    {
      "cell_type": "code",
      "metadata": {
        "id": "JJELGkHToqlA",
        "colab_type": "code",
        "colab": {}
      },
      "source": [
        "def dummy_data(data, columns):\n",
        "  for column in columns:\n",
        "    data = pd.concat([data, pd.get_dummies(data[column], prefix=column)], axis=1)\n",
        "    data = data.drop(column, axis=1)\n",
        "  return data\n",
        "\n",
        "dummy_columns = [\"Pclass\"]\n",
        "train_data=dummy_data(train_data, dummy_columns)\n",
        "test_data=dummy_data(test_data, dummy_columns)"
      ],
      "execution_count": 0,
      "outputs": []
    },
    {
      "cell_type": "code",
      "metadata": {
        "id": "nF5wiOpQpL1Z",
        "colab_type": "code",
        "outputId": "03e9e14f-8e48-433a-badf-dfeb89389079",
        "colab": {
          "base_uri": "https://localhost:8080/",
          "height": 202
        }
      },
      "source": [
        "test_data.head()"
      ],
      "execution_count": 9,
      "outputs": [
        {
          "output_type": "execute_result",
          "data": {
            "text/html": [
              "<div>\n",
              "<style scoped>\n",
              "    .dataframe tbody tr th:only-of-type {\n",
              "        vertical-align: middle;\n",
              "    }\n",
              "\n",
              "    .dataframe tbody tr th {\n",
              "        vertical-align: top;\n",
              "    }\n",
              "\n",
              "    .dataframe thead th {\n",
              "        text-align: right;\n",
              "    }\n",
              "</style>\n",
              "<table border=\"1\" class=\"dataframe\">\n",
              "  <thead>\n",
              "    <tr style=\"text-align: right;\">\n",
              "      <th></th>\n",
              "      <th>Sex</th>\n",
              "      <th>Age</th>\n",
              "      <th>SibSp</th>\n",
              "      <th>Parch</th>\n",
              "      <th>Pclass_1</th>\n",
              "      <th>Pclass_2</th>\n",
              "      <th>Pclass_3</th>\n",
              "    </tr>\n",
              "  </thead>\n",
              "  <tbody>\n",
              "    <tr>\n",
              "      <th>0</th>\n",
              "      <td>male</td>\n",
              "      <td>34.5</td>\n",
              "      <td>0.0</td>\n",
              "      <td>0.0</td>\n",
              "      <td>0</td>\n",
              "      <td>0</td>\n",
              "      <td>1</td>\n",
              "    </tr>\n",
              "    <tr>\n",
              "      <th>1</th>\n",
              "      <td>female</td>\n",
              "      <td>47.0</td>\n",
              "      <td>1.0</td>\n",
              "      <td>0.0</td>\n",
              "      <td>0</td>\n",
              "      <td>0</td>\n",
              "      <td>1</td>\n",
              "    </tr>\n",
              "    <tr>\n",
              "      <th>2</th>\n",
              "      <td>male</td>\n",
              "      <td>62.0</td>\n",
              "      <td>0.0</td>\n",
              "      <td>0.0</td>\n",
              "      <td>0</td>\n",
              "      <td>1</td>\n",
              "      <td>0</td>\n",
              "    </tr>\n",
              "    <tr>\n",
              "      <th>3</th>\n",
              "      <td>male</td>\n",
              "      <td>27.0</td>\n",
              "      <td>0.0</td>\n",
              "      <td>0.0</td>\n",
              "      <td>0</td>\n",
              "      <td>0</td>\n",
              "      <td>1</td>\n",
              "    </tr>\n",
              "    <tr>\n",
              "      <th>4</th>\n",
              "      <td>female</td>\n",
              "      <td>22.0</td>\n",
              "      <td>1.0</td>\n",
              "      <td>1.0</td>\n",
              "      <td>0</td>\n",
              "      <td>0</td>\n",
              "      <td>1</td>\n",
              "    </tr>\n",
              "  </tbody>\n",
              "</table>\n",
              "</div>"
            ],
            "text/plain": [
              "      Sex   Age  SibSp  Parch  Pclass_1  Pclass_2  Pclass_3\n",
              "0    male  34.5    0.0    0.0         0         0         1\n",
              "1  female  47.0    1.0    0.0         0         0         1\n",
              "2    male  62.0    0.0    0.0         0         1         0\n",
              "3    male  27.0    0.0    0.0         0         0         1\n",
              "4  female  22.0    1.0    1.0         0         0         1"
            ]
          },
          "metadata": {
            "tags": []
          },
          "execution_count": 9
        }
      ]
    },
    {
      "cell_type": "markdown",
      "metadata": {
        "id": "33wjHGB0LxBH",
        "colab_type": "text"
      },
      "source": [
        "Transform sex to number. Male = 0, Female = 1."
      ]
    },
    {
      "cell_type": "code",
      "metadata": {
        "id": "1fCRwr6gjQDK",
        "colab_type": "code",
        "outputId": "b3fcab93-148a-4954-8aa6-df12129fb89e",
        "colab": {
          "base_uri": "https://localhost:8080/",
          "height": 202
        }
      },
      "source": [
        "from sklearn.preprocessing import LabelEncoder\n",
        "\n",
        "def sex_to_int(data):\n",
        "  le = LabelEncoder()\n",
        "  le.fit([\"male\",\"female\"])\n",
        "  data[\"Sex\"]=le.transform(data[\"Sex\"]) \n",
        "  return data\n",
        "\n",
        "train_data = sex_to_int(train_data)\n",
        "test_data = sex_to_int(test_data)\n",
        "train_data.head()"
      ],
      "execution_count": 10,
      "outputs": [
        {
          "output_type": "execute_result",
          "data": {
            "text/html": [
              "<div>\n",
              "<style scoped>\n",
              "    .dataframe tbody tr th:only-of-type {\n",
              "        vertical-align: middle;\n",
              "    }\n",
              "\n",
              "    .dataframe tbody tr th {\n",
              "        vertical-align: top;\n",
              "    }\n",
              "\n",
              "    .dataframe thead th {\n",
              "        text-align: right;\n",
              "    }\n",
              "</style>\n",
              "<table border=\"1\" class=\"dataframe\">\n",
              "  <thead>\n",
              "    <tr style=\"text-align: right;\">\n",
              "      <th></th>\n",
              "      <th>Survived</th>\n",
              "      <th>Sex</th>\n",
              "      <th>Age</th>\n",
              "      <th>SibSp</th>\n",
              "      <th>Parch</th>\n",
              "      <th>Pclass_1</th>\n",
              "      <th>Pclass_2</th>\n",
              "      <th>Pclass_3</th>\n",
              "    </tr>\n",
              "  </thead>\n",
              "  <tbody>\n",
              "    <tr>\n",
              "      <th>0</th>\n",
              "      <td>0.0</td>\n",
              "      <td>1</td>\n",
              "      <td>22.0</td>\n",
              "      <td>1.0</td>\n",
              "      <td>0.0</td>\n",
              "      <td>0</td>\n",
              "      <td>0</td>\n",
              "      <td>1</td>\n",
              "    </tr>\n",
              "    <tr>\n",
              "      <th>1</th>\n",
              "      <td>1.0</td>\n",
              "      <td>0</td>\n",
              "      <td>38.0</td>\n",
              "      <td>1.0</td>\n",
              "      <td>0.0</td>\n",
              "      <td>1</td>\n",
              "      <td>0</td>\n",
              "      <td>0</td>\n",
              "    </tr>\n",
              "    <tr>\n",
              "      <th>2</th>\n",
              "      <td>1.0</td>\n",
              "      <td>0</td>\n",
              "      <td>26.0</td>\n",
              "      <td>0.0</td>\n",
              "      <td>0.0</td>\n",
              "      <td>0</td>\n",
              "      <td>0</td>\n",
              "      <td>1</td>\n",
              "    </tr>\n",
              "    <tr>\n",
              "      <th>3</th>\n",
              "      <td>1.0</td>\n",
              "      <td>0</td>\n",
              "      <td>35.0</td>\n",
              "      <td>1.0</td>\n",
              "      <td>0.0</td>\n",
              "      <td>1</td>\n",
              "      <td>0</td>\n",
              "      <td>0</td>\n",
              "    </tr>\n",
              "    <tr>\n",
              "      <th>4</th>\n",
              "      <td>0.0</td>\n",
              "      <td>1</td>\n",
              "      <td>35.0</td>\n",
              "      <td>0.0</td>\n",
              "      <td>0.0</td>\n",
              "      <td>0</td>\n",
              "      <td>0</td>\n",
              "      <td>1</td>\n",
              "    </tr>\n",
              "  </tbody>\n",
              "</table>\n",
              "</div>"
            ],
            "text/plain": [
              "   Survived  Sex   Age  SibSp  Parch  Pclass_1  Pclass_2  Pclass_3\n",
              "0       0.0    1  22.0    1.0    0.0         0         0         1\n",
              "1       1.0    0  38.0    1.0    0.0         1         0         0\n",
              "2       1.0    0  26.0    0.0    0.0         0         0         1\n",
              "3       1.0    0  35.0    1.0    0.0         1         0         0\n",
              "4       0.0    1  35.0    0.0    0.0         0         0         1"
            ]
          },
          "metadata": {
            "tags": []
          },
          "execution_count": 10
        }
      ]
    },
    {
      "cell_type": "markdown",
      "metadata": {
        "id": "OG7rIerRMNay",
        "colab_type": "text"
      },
      "source": [
        "Normalize passenger's age."
      ]
    },
    {
      "cell_type": "code",
      "metadata": {
        "id": "MXhXK3Rsjbq2",
        "colab_type": "code",
        "outputId": "f0715446-1848-4230-f47f-25988f22d252",
        "colab": {
          "base_uri": "https://localhost:8080/",
          "height": 202
        }
      },
      "source": [
        "from sklearn.preprocessing import MinMaxScaler\n",
        "\n",
        "def normalize_age(data):\n",
        "  scaler = MinMaxScaler()\n",
        "  data[\"Age\"] = scaler.fit_transform(data[\"Age\"].values.reshape(-1,1))\n",
        "  return data\n",
        "  \n",
        "train_data = normalize_age(train_data)\n",
        "test_data = normalize_age(test_data)\n",
        "train_data.head()"
      ],
      "execution_count": 11,
      "outputs": [
        {
          "output_type": "execute_result",
          "data": {
            "text/html": [
              "<div>\n",
              "<style scoped>\n",
              "    .dataframe tbody tr th:only-of-type {\n",
              "        vertical-align: middle;\n",
              "    }\n",
              "\n",
              "    .dataframe tbody tr th {\n",
              "        vertical-align: top;\n",
              "    }\n",
              "\n",
              "    .dataframe thead th {\n",
              "        text-align: right;\n",
              "    }\n",
              "</style>\n",
              "<table border=\"1\" class=\"dataframe\">\n",
              "  <thead>\n",
              "    <tr style=\"text-align: right;\">\n",
              "      <th></th>\n",
              "      <th>Survived</th>\n",
              "      <th>Sex</th>\n",
              "      <th>Age</th>\n",
              "      <th>SibSp</th>\n",
              "      <th>Parch</th>\n",
              "      <th>Pclass_1</th>\n",
              "      <th>Pclass_2</th>\n",
              "      <th>Pclass_3</th>\n",
              "    </tr>\n",
              "  </thead>\n",
              "  <tbody>\n",
              "    <tr>\n",
              "      <th>0</th>\n",
              "      <td>0.0</td>\n",
              "      <td>1</td>\n",
              "      <td>0.271174</td>\n",
              "      <td>1.0</td>\n",
              "      <td>0.0</td>\n",
              "      <td>0</td>\n",
              "      <td>0</td>\n",
              "      <td>1</td>\n",
              "    </tr>\n",
              "    <tr>\n",
              "      <th>1</th>\n",
              "      <td>1.0</td>\n",
              "      <td>0</td>\n",
              "      <td>0.472229</td>\n",
              "      <td>1.0</td>\n",
              "      <td>0.0</td>\n",
              "      <td>1</td>\n",
              "      <td>0</td>\n",
              "      <td>0</td>\n",
              "    </tr>\n",
              "    <tr>\n",
              "      <th>2</th>\n",
              "      <td>1.0</td>\n",
              "      <td>0</td>\n",
              "      <td>0.321438</td>\n",
              "      <td>0.0</td>\n",
              "      <td>0.0</td>\n",
              "      <td>0</td>\n",
              "      <td>0</td>\n",
              "      <td>1</td>\n",
              "    </tr>\n",
              "    <tr>\n",
              "      <th>3</th>\n",
              "      <td>1.0</td>\n",
              "      <td>0</td>\n",
              "      <td>0.434531</td>\n",
              "      <td>1.0</td>\n",
              "      <td>0.0</td>\n",
              "      <td>1</td>\n",
              "      <td>0</td>\n",
              "      <td>0</td>\n",
              "    </tr>\n",
              "    <tr>\n",
              "      <th>4</th>\n",
              "      <td>0.0</td>\n",
              "      <td>1</td>\n",
              "      <td>0.434531</td>\n",
              "      <td>0.0</td>\n",
              "      <td>0.0</td>\n",
              "      <td>0</td>\n",
              "      <td>0</td>\n",
              "      <td>1</td>\n",
              "    </tr>\n",
              "  </tbody>\n",
              "</table>\n",
              "</div>"
            ],
            "text/plain": [
              "   Survived  Sex       Age  SibSp  Parch  Pclass_1  Pclass_2  Pclass_3\n",
              "0       0.0    1  0.271174    1.0    0.0         0         0         1\n",
              "1       1.0    0  0.472229    1.0    0.0         1         0         0\n",
              "2       1.0    0  0.321438    0.0    0.0         0         0         1\n",
              "3       1.0    0  0.434531    1.0    0.0         1         0         0\n",
              "4       0.0    1  0.434531    0.0    0.0         0         0         1"
            ]
          },
          "metadata": {
            "tags": []
          },
          "execution_count": 11
        }
      ]
    },
    {
      "cell_type": "code",
      "metadata": {
        "id": "kUODrT3RjoCx",
        "colab_type": "code",
        "outputId": "258ae2d6-4c34-43c5-e6f1-244a05f5607f",
        "colab": {
          "base_uri": "https://localhost:8080/",
          "height": 139
        }
      },
      "source": [
        "from sklearn.preprocessing import LabelBinarizer\n",
        "from sklearn.model_selection import train_test_split\n",
        "\n",
        "def split_valid_test_data(data, fraction=(1 - 0.8)):\n",
        "  data_y = data[\"Survived\"]\n",
        "  lb = LabelBinarizer()\n",
        "  data_y = lb.fit_transform(data_y)\n",
        "\n",
        "  data_x = data.drop([\"Survived\"], axis=1)\n",
        "\n",
        "  train_x, valid_x, train_y, valid_y = train_test_split(data_x, data_y, test_size=fraction)\n",
        "\n",
        "  return train_x.values, train_y, valid_x, valid_y\n",
        "\n",
        "train_x, train_y, valid_x, valid_y = split_valid_test_data(train_data)\n",
        "print(\"train_x:{}\".format(train_x.shape))\n",
        "print(\"train_y:{}\".format(train_y.shape))\n",
        "print(\"train_y content:{}\".format(train_y[:3]))\n",
        "\n",
        "print(\"valid_x:{}\".format(valid_x.shape))\n",
        "print(\"valid_y:{}\".format(valid_y.shape))"
      ],
      "execution_count": 12,
      "outputs": [
        {
          "output_type": "stream",
          "text": [
            "train_x:(712, 7)\n",
            "train_y:(712, 1)\n",
            "train_y content:[[0]\n",
            " [0]\n",
            " [1]]\n",
            "valid_x:(179, 7)\n",
            "valid_y:(179, 1)\n"
          ],
          "name": "stdout"
        }
      ]
    },
    {
      "cell_type": "markdown",
      "metadata": {
        "id": "5Z0Uj5S0Mhgn",
        "colab_type": "text"
      },
      "source": [
        "Build the neural network."
      ]
    },
    {
      "cell_type": "code",
      "metadata": {
        "id": "_-8nVC7vkH-b",
        "colab_type": "code",
        "outputId": "6439e787-49d1-428a-fad9-4b336552914c",
        "colab": {
          "base_uri": "https://localhost:8080/",
          "height": 384
        }
      },
      "source": [
        "# Build Neural Network\n",
        "from collections import namedtuple\n",
        "\n",
        "def build_neural_network(hidden_units=10):\n",
        "  tf.reset_default_graph()\n",
        "  inputs = tf.placeholder(tf.float32, shape=[None, train_x.shape[1]])\n",
        "  labels = tf.placeholder(tf.float32, shape=[None, 1])\n",
        "  learning_rate = tf.placeholder(tf.float32)\n",
        "  is_training=tf.Variable(True,dtype=tf.bool)\n",
        "\n",
        "  initializer = tf.contrib.layers.xavier_initializer()\n",
        "  fc = tf.layers.dense(inputs, hidden_units, activation=None,kernel_initializer=initializer)\n",
        "  fc=tf.layers.batch_normalization(fc, training=is_training)\n",
        "  fc=tf.nn.relu(fc)\n",
        "\n",
        "  logits = tf.layers.dense(fc, 1, activation=None)\n",
        "  cross_entropy = tf.nn.sigmoid_cross_entropy_with_logits(labels=labels, logits=logits)\n",
        "  cost = tf.reduce_mean(cross_entropy)\n",
        "\n",
        "  with tf.control_dependencies(tf.get_collection(tf.GraphKeys.UPDATE_OPS)):\n",
        "      optimizer = tf.train.AdamOptimizer(learning_rate=learning_rate).minimize(cost)\n",
        "\n",
        "  predicted = tf.nn.sigmoid(logits)\n",
        "  correct_pred = tf.equal(tf.round(predicted), labels)\n",
        "  accuracy = tf.reduce_mean(tf.cast(correct_pred, tf.float32))\n",
        "\n",
        "  # Export the nodes \n",
        "  export_nodes = ['inputs', 'labels', 'learning_rate','is_training', 'logits',\n",
        "                  'cost', 'optimizer', 'predicted', 'accuracy']\n",
        "  Graph = namedtuple('Graph', export_nodes)\n",
        "  local_dict = locals()\n",
        "  graph = Graph(*[local_dict[each] for each in export_nodes])\n",
        "\n",
        "  return graph\n",
        "\n",
        "model = build_neural_network()"
      ],
      "execution_count": 13,
      "outputs": [
        {
          "output_type": "stream",
          "text": [
            "WARNING:tensorflow:\n",
            "The TensorFlow contrib module will not be included in TensorFlow 2.0.\n",
            "For more information, please see:\n",
            "  * https://github.com/tensorflow/community/blob/master/rfcs/20180907-contrib-sunset.md\n",
            "  * https://github.com/tensorflow/addons\n",
            "  * https://github.com/tensorflow/io (for I/O related ops)\n",
            "If you depend on functionality not listed there, please file an issue.\n",
            "\n",
            "WARNING:tensorflow:From <ipython-input-13-f303ceef9516>:11: dense (from tensorflow.python.layers.core) is deprecated and will be removed in a future version.\n",
            "Instructions for updating:\n",
            "Use keras.layers.Dense instead.\n",
            "WARNING:tensorflow:From /tensorflow-1.15.2/python3.6/tensorflow_core/python/layers/core.py:187: Layer.apply (from tensorflow.python.keras.engine.base_layer) is deprecated and will be removed in a future version.\n",
            "Instructions for updating:\n",
            "Please use `layer.__call__` method instead.\n",
            "WARNING:tensorflow:From <ipython-input-13-f303ceef9516>:12: batch_normalization (from tensorflow.python.layers.normalization) is deprecated and will be removed in a future version.\n",
            "Instructions for updating:\n",
            "Use keras.layers.BatchNormalization instead.  In particular, `tf.control_dependencies(tf.GraphKeys.UPDATE_OPS)` should not be used (consult the `tf.keras.layers.batch_normalization` documentation).\n",
            "WARNING:tensorflow:From /tensorflow-1.15.2/python3.6/tensorflow_core/python/ops/nn_impl.py:183: where (from tensorflow.python.ops.array_ops) is deprecated and will be removed in a future version.\n",
            "Instructions for updating:\n",
            "Use tf.where in 2.0, which has the same broadcast rule as np.where\n"
          ],
          "name": "stdout"
        }
      ]
    },
    {
      "cell_type": "code",
      "metadata": {
        "id": "HvQib1vEFFw9",
        "colab_type": "code",
        "colab": {}
      },
      "source": [
        "def get_batch(data_x,data_y,batch_size=32):\n",
        "  batch_n=len(data_x)//batch_size\n",
        "  for i in range(batch_n):\n",
        "    batch_x=data_x[i*batch_size:(i+1)*batch_size]\n",
        "    batch_y=data_y[i*batch_size:(i+1)*batch_size]\n",
        "    \n",
        "    yield batch_x,batch_y"
      ],
      "execution_count": 0,
      "outputs": []
    },
    {
      "cell_type": "code",
      "metadata": {
        "id": "VSop85Y7FLWV",
        "colab_type": "code",
        "colab": {
          "base_uri": "https://localhost:8080/",
          "height": 1000
        },
        "outputId": "28ab996e-d440-4cae-b49f-30b50f9fd947"
      },
      "source": [
        "epochs = 200\n",
        "train_collect = 50\n",
        "train_print=train_collect*2\n",
        "\n",
        "learning_rate_value = 0.001\n",
        "batch_size=16\n",
        "\n",
        "x_collect = []\n",
        "train_loss_collect = []\n",
        "train_acc_collect = []\n",
        "valid_loss_collect = []\n",
        "valid_acc_collect = []\n",
        "\n",
        "saver = tf.train.Saver()\n",
        "with tf.Session() as sess:\n",
        "  sess.run(tf.global_variables_initializer())\n",
        "  iteration=0\n",
        "  for e in range(epochs):\n",
        "    for batch_x,batch_y in get_batch(train_x,train_y,batch_size):\n",
        "      iteration+=1\n",
        "      feed = {model.inputs: train_x, \n",
        "              model.labels: train_y, \n",
        "              model.learning_rate: learning_rate_value, \n",
        "              model.is_training:True}\n",
        "\n",
        "      train_loss, _, train_acc = sess.run([model.cost, model.optimizer, model.accuracy], feed_dict=feed)\n",
        "      \n",
        "      if iteration % train_collect == 0:\n",
        "        ##\n",
        "        x_collect.append(e)\n",
        "        train_loss_collect.append(train_loss)\n",
        "        train_acc_collect.append(train_acc)\n",
        "\n",
        "        if iteration % train_print==0:\n",
        "          ##\n",
        "          print(\"Epoch: {}/{}\".format(e + 1, epochs),\n",
        "          \"Train Loss: {:.4f}\".format(train_loss),\n",
        "          \"Train Acc: {:.4f}\".format(train_acc))\n",
        "                \n",
        "        feed = {model.inputs: valid_x,\n",
        "                model.labels: valid_y,\n",
        "                model.is_training:False}\n",
        "        val_loss, val_acc = sess.run([model.cost, model.accuracy], feed_dict=feed)\n",
        "        valid_loss_collect.append(val_loss)\n",
        "        valid_acc_collect.append(val_acc)\n",
        "        \n",
        "        if iteration % train_print==0:\n",
        "          ##\n",
        "          print(\"Epoch: {}/{}\".format(e + 1, epochs), \n",
        "                \"Validation Loss: {:.4f}\".format(val_loss), \n",
        "                \"Validation Acc: {:.4f}\".format(val_acc))\n",
        "  \n",
        "  saver.save(sess, \"./titanic.ckpt\")"
      ],
      "execution_count": 15,
      "outputs": [
        {
          "output_type": "stream",
          "text": [
            "Epoch: 3/200 Train Loss: 0.5115 Train Acc: 0.7837\n",
            "Epoch: 3/200 Validation Loss: 0.5900 Validation Acc: 0.7263\n",
            "Epoch: 5/200 Train Loss: 0.4454 Train Acc: 0.8174\n",
            "Epoch: 5/200 Validation Loss: 0.5072 Validation Acc: 0.7709\n",
            "Epoch: 7/200 Train Loss: 0.4216 Train Acc: 0.8188\n",
            "Epoch: 7/200 Validation Loss: 0.4598 Validation Acc: 0.7709\n",
            "Epoch: 10/200 Train Loss: 0.4130 Train Acc: 0.8216\n",
            "Epoch: 10/200 Validation Loss: 0.4426 Validation Acc: 0.7989\n",
            "Epoch: 12/200 Train Loss: 0.4095 Train Acc: 0.8244\n",
            "Epoch: 12/200 Validation Loss: 0.4375 Validation Acc: 0.7877\n",
            "Epoch: 14/200 Train Loss: 0.4074 Train Acc: 0.8216\n",
            "Epoch: 14/200 Validation Loss: 0.4368 Validation Acc: 0.7877\n",
            "Epoch: 16/200 Train Loss: 0.4059 Train Acc: 0.8216\n",
            "Epoch: 16/200 Validation Loss: 0.4367 Validation Acc: 0.7821\n",
            "Epoch: 19/200 Train Loss: 0.4050 Train Acc: 0.8258\n",
            "Epoch: 19/200 Validation Loss: 0.4350 Validation Acc: 0.7989\n",
            "Epoch: 21/200 Train Loss: 0.4041 Train Acc: 0.8244\n",
            "Epoch: 21/200 Validation Loss: 0.4350 Validation Acc: 0.7989\n",
            "Epoch: 23/200 Train Loss: 0.4031 Train Acc: 0.8272\n",
            "Epoch: 23/200 Validation Loss: 0.4347 Validation Acc: 0.7989\n",
            "Epoch: 25/200 Train Loss: 0.4020 Train Acc: 0.8258\n",
            "Epoch: 25/200 Validation Loss: 0.4347 Validation Acc: 0.7989\n",
            "Epoch: 28/200 Train Loss: 0.4010 Train Acc: 0.8244\n",
            "Epoch: 28/200 Validation Loss: 0.4350 Validation Acc: 0.7989\n",
            "Epoch: 30/200 Train Loss: 0.4004 Train Acc: 0.8287\n",
            "Epoch: 30/200 Validation Loss: 0.4343 Validation Acc: 0.7989\n",
            "Epoch: 32/200 Train Loss: 0.3996 Train Acc: 0.8272\n",
            "Epoch: 32/200 Validation Loss: 0.4321 Validation Acc: 0.7989\n",
            "Epoch: 35/200 Train Loss: 0.3988 Train Acc: 0.8287\n",
            "Epoch: 35/200 Validation Loss: 0.4335 Validation Acc: 0.7989\n",
            "Epoch: 37/200 Train Loss: 0.3981 Train Acc: 0.8315\n",
            "Epoch: 37/200 Validation Loss: 0.4325 Validation Acc: 0.7989\n",
            "Epoch: 39/200 Train Loss: 0.3976 Train Acc: 0.8329\n",
            "Epoch: 39/200 Validation Loss: 0.4318 Validation Acc: 0.7989\n",
            "Epoch: 41/200 Train Loss: 0.3970 Train Acc: 0.8343\n",
            "Epoch: 41/200 Validation Loss: 0.4323 Validation Acc: 0.7989\n",
            "Epoch: 44/200 Train Loss: 0.3962 Train Acc: 0.8329\n",
            "Epoch: 44/200 Validation Loss: 0.4310 Validation Acc: 0.7933\n",
            "Epoch: 46/200 Train Loss: 0.3959 Train Acc: 0.8343\n",
            "Epoch: 46/200 Validation Loss: 0.4286 Validation Acc: 0.7933\n",
            "Epoch: 48/200 Train Loss: 0.3956 Train Acc: 0.8343\n",
            "Epoch: 48/200 Validation Loss: 0.4275 Validation Acc: 0.7933\n",
            "Epoch: 50/200 Train Loss: 0.3952 Train Acc: 0.8343\n",
            "Epoch: 50/200 Validation Loss: 0.4268 Validation Acc: 0.7933\n",
            "Epoch: 53/200 Train Loss: 0.3949 Train Acc: 0.8357\n",
            "Epoch: 53/200 Validation Loss: 0.4267 Validation Acc: 0.7933\n",
            "Epoch: 55/200 Train Loss: 0.3945 Train Acc: 0.8357\n",
            "Epoch: 55/200 Validation Loss: 0.4251 Validation Acc: 0.7989\n",
            "Epoch: 57/200 Train Loss: 0.3941 Train Acc: 0.8357\n",
            "Epoch: 57/200 Validation Loss: 0.4244 Validation Acc: 0.7989\n",
            "Epoch: 60/200 Train Loss: 0.3936 Train Acc: 0.8343\n",
            "Epoch: 60/200 Validation Loss: 0.4249 Validation Acc: 0.8045\n",
            "Epoch: 62/200 Train Loss: 0.3931 Train Acc: 0.8343\n",
            "Epoch: 62/200 Validation Loss: 0.4233 Validation Acc: 0.8045\n",
            "Epoch: 64/200 Train Loss: 0.3921 Train Acc: 0.8357\n",
            "Epoch: 64/200 Validation Loss: 0.4214 Validation Acc: 0.8101\n",
            "Epoch: 66/200 Train Loss: 0.3903 Train Acc: 0.8357\n",
            "Epoch: 66/200 Validation Loss: 0.4167 Validation Acc: 0.7989\n",
            "Epoch: 69/200 Train Loss: 0.3893 Train Acc: 0.8357\n",
            "Epoch: 69/200 Validation Loss: 0.4155 Validation Acc: 0.8045\n",
            "Epoch: 71/200 Train Loss: 0.3878 Train Acc: 0.8357\n",
            "Epoch: 71/200 Validation Loss: 0.4158 Validation Acc: 0.8101\n",
            "Epoch: 73/200 Train Loss: 0.3867 Train Acc: 0.8343\n",
            "Epoch: 73/200 Validation Loss: 0.4170 Validation Acc: 0.8101\n",
            "Epoch: 75/200 Train Loss: 0.3861 Train Acc: 0.8343\n",
            "Epoch: 75/200 Validation Loss: 0.4201 Validation Acc: 0.8045\n",
            "Epoch: 78/200 Train Loss: 0.3857 Train Acc: 0.8343\n",
            "Epoch: 78/200 Validation Loss: 0.4213 Validation Acc: 0.8045\n",
            "Epoch: 80/200 Train Loss: 0.3853 Train Acc: 0.8371\n",
            "Epoch: 80/200 Validation Loss: 0.4222 Validation Acc: 0.8045\n",
            "Epoch: 82/200 Train Loss: 0.3848 Train Acc: 0.8385\n",
            "Epoch: 82/200 Validation Loss: 0.4216 Validation Acc: 0.7989\n",
            "Epoch: 85/200 Train Loss: 0.3845 Train Acc: 0.8371\n",
            "Epoch: 85/200 Validation Loss: 0.4259 Validation Acc: 0.7933\n",
            "Epoch: 87/200 Train Loss: 0.3843 Train Acc: 0.8371\n",
            "Epoch: 87/200 Validation Loss: 0.4252 Validation Acc: 0.7989\n",
            "Epoch: 89/200 Train Loss: 0.3841 Train Acc: 0.8385\n",
            "Epoch: 89/200 Validation Loss: 0.4231 Validation Acc: 0.7989\n",
            "Epoch: 91/200 Train Loss: 0.3838 Train Acc: 0.8399\n",
            "Epoch: 91/200 Validation Loss: 0.4285 Validation Acc: 0.7989\n",
            "Epoch: 94/200 Train Loss: 0.3830 Train Acc: 0.8371\n",
            "Epoch: 94/200 Validation Loss: 0.4274 Validation Acc: 0.7933\n",
            "Epoch: 96/200 Train Loss: 0.3823 Train Acc: 0.8371\n",
            "Epoch: 96/200 Validation Loss: 0.4233 Validation Acc: 0.7989\n",
            "Epoch: 98/200 Train Loss: 0.3818 Train Acc: 0.8385\n",
            "Epoch: 98/200 Validation Loss: 0.4260 Validation Acc: 0.7989\n",
            "Epoch: 100/200 Train Loss: 0.3814 Train Acc: 0.8385\n",
            "Epoch: 100/200 Validation Loss: 0.4279 Validation Acc: 0.7989\n",
            "Epoch: 103/200 Train Loss: 0.3811 Train Acc: 0.8385\n",
            "Epoch: 103/200 Validation Loss: 0.4280 Validation Acc: 0.7989\n",
            "Epoch: 105/200 Train Loss: 0.3808 Train Acc: 0.8399\n",
            "Epoch: 105/200 Validation Loss: 0.4305 Validation Acc: 0.7989\n",
            "Epoch: 107/200 Train Loss: 0.3806 Train Acc: 0.8399\n",
            "Epoch: 107/200 Validation Loss: 0.4287 Validation Acc: 0.8156\n",
            "Epoch: 110/200 Train Loss: 0.3805 Train Acc: 0.8413\n",
            "Epoch: 110/200 Validation Loss: 0.4299 Validation Acc: 0.8045\n",
            "Epoch: 112/200 Train Loss: 0.3804 Train Acc: 0.8399\n",
            "Epoch: 112/200 Validation Loss: 0.4288 Validation Acc: 0.7989\n",
            "Epoch: 114/200 Train Loss: 0.3803 Train Acc: 0.8385\n",
            "Epoch: 114/200 Validation Loss: 0.4326 Validation Acc: 0.7989\n",
            "Epoch: 116/200 Train Loss: 0.3802 Train Acc: 0.8357\n",
            "Epoch: 116/200 Validation Loss: 0.4333 Validation Acc: 0.7989\n",
            "Epoch: 119/200 Train Loss: 0.3802 Train Acc: 0.8357\n",
            "Epoch: 119/200 Validation Loss: 0.4365 Validation Acc: 0.7989\n",
            "Epoch: 121/200 Train Loss: 0.3801 Train Acc: 0.8357\n",
            "Epoch: 121/200 Validation Loss: 0.4320 Validation Acc: 0.8045\n",
            "Epoch: 123/200 Train Loss: 0.3801 Train Acc: 0.8357\n",
            "Epoch: 123/200 Validation Loss: 0.4300 Validation Acc: 0.8045\n",
            "Epoch: 125/200 Train Loss: 0.3798 Train Acc: 0.8371\n",
            "Epoch: 125/200 Validation Loss: 0.4293 Validation Acc: 0.8101\n",
            "Epoch: 128/200 Train Loss: 0.3796 Train Acc: 0.8371\n",
            "Epoch: 128/200 Validation Loss: 0.4262 Validation Acc: 0.8156\n",
            "Epoch: 130/200 Train Loss: 0.3792 Train Acc: 0.8371\n",
            "Epoch: 130/200 Validation Loss: 0.4338 Validation Acc: 0.8045\n",
            "Epoch: 132/200 Train Loss: 0.3788 Train Acc: 0.8343\n",
            "Epoch: 132/200 Validation Loss: 0.4360 Validation Acc: 0.7989\n",
            "Epoch: 135/200 Train Loss: 0.3781 Train Acc: 0.8371\n",
            "Epoch: 135/200 Validation Loss: 0.4393 Validation Acc: 0.7989\n",
            "Epoch: 137/200 Train Loss: 0.3779 Train Acc: 0.8385\n",
            "Epoch: 137/200 Validation Loss: 0.4323 Validation Acc: 0.8101\n",
            "Epoch: 139/200 Train Loss: 0.3777 Train Acc: 0.8385\n",
            "Epoch: 139/200 Validation Loss: 0.4310 Validation Acc: 0.8101\n",
            "Epoch: 141/200 Train Loss: 0.3775 Train Acc: 0.8385\n",
            "Epoch: 141/200 Validation Loss: 0.4274 Validation Acc: 0.8156\n",
            "Epoch: 144/200 Train Loss: 0.3774 Train Acc: 0.8385\n",
            "Epoch: 144/200 Validation Loss: 0.4288 Validation Acc: 0.8101\n",
            "Epoch: 146/200 Train Loss: 0.3773 Train Acc: 0.8385\n",
            "Epoch: 146/200 Validation Loss: 0.4330 Validation Acc: 0.8156\n",
            "Epoch: 148/200 Train Loss: 0.3772 Train Acc: 0.8385\n",
            "Epoch: 148/200 Validation Loss: 0.4368 Validation Acc: 0.8101\n",
            "Epoch: 150/200 Train Loss: 0.3772 Train Acc: 0.8385\n",
            "Epoch: 150/200 Validation Loss: 0.4331 Validation Acc: 0.8101\n",
            "Epoch: 153/200 Train Loss: 0.3771 Train Acc: 0.8371\n",
            "Epoch: 153/200 Validation Loss: 0.4292 Validation Acc: 0.8156\n",
            "Epoch: 155/200 Train Loss: 0.3771 Train Acc: 0.8371\n",
            "Epoch: 155/200 Validation Loss: 0.4277 Validation Acc: 0.8101\n",
            "Epoch: 157/200 Train Loss: 0.3770 Train Acc: 0.8385\n",
            "Epoch: 157/200 Validation Loss: 0.4248 Validation Acc: 0.8101\n",
            "Epoch: 160/200 Train Loss: 0.3769 Train Acc: 0.8371\n",
            "Epoch: 160/200 Validation Loss: 0.4273 Validation Acc: 0.8101\n",
            "Epoch: 162/200 Train Loss: 0.3769 Train Acc: 0.8371\n",
            "Epoch: 162/200 Validation Loss: 0.4271 Validation Acc: 0.8101\n",
            "Epoch: 164/200 Train Loss: 0.3769 Train Acc: 0.8385\n",
            "Epoch: 164/200 Validation Loss: 0.4276 Validation Acc: 0.8156\n",
            "Epoch: 166/200 Train Loss: 0.3769 Train Acc: 0.8343\n",
            "Epoch: 166/200 Validation Loss: 0.4288 Validation Acc: 0.8156\n",
            "Epoch: 169/200 Train Loss: 0.3769 Train Acc: 0.8343\n",
            "Epoch: 169/200 Validation Loss: 0.4391 Validation Acc: 0.7989\n",
            "Epoch: 171/200 Train Loss: 0.3768 Train Acc: 0.8343\n",
            "Epoch: 171/200 Validation Loss: 0.4338 Validation Acc: 0.8156\n",
            "Epoch: 173/200 Train Loss: 0.3768 Train Acc: 0.8357\n",
            "Epoch: 173/200 Validation Loss: 0.4330 Validation Acc: 0.8101\n",
            "Epoch: 175/200 Train Loss: 0.3768 Train Acc: 0.8357\n",
            "Epoch: 175/200 Validation Loss: 0.4363 Validation Acc: 0.8101\n",
            "Epoch: 178/200 Train Loss: 0.3767 Train Acc: 0.8343\n",
            "Epoch: 178/200 Validation Loss: 0.4324 Validation Acc: 0.8101\n",
            "Epoch: 180/200 Train Loss: 0.3766 Train Acc: 0.8385\n",
            "Epoch: 180/200 Validation Loss: 0.4326 Validation Acc: 0.8101\n",
            "Epoch: 182/200 Train Loss: 0.3764 Train Acc: 0.8357\n",
            "Epoch: 182/200 Validation Loss: 0.4331 Validation Acc: 0.8101\n",
            "Epoch: 185/200 Train Loss: 0.3763 Train Acc: 0.8385\n",
            "Epoch: 185/200 Validation Loss: 0.4302 Validation Acc: 0.8156\n",
            "Epoch: 187/200 Train Loss: 0.3761 Train Acc: 0.8385\n",
            "Epoch: 187/200 Validation Loss: 0.4295 Validation Acc: 0.8045\n",
            "Epoch: 189/200 Train Loss: 0.3759 Train Acc: 0.8413\n",
            "Epoch: 189/200 Validation Loss: 0.4264 Validation Acc: 0.7989\n",
            "Epoch: 191/200 Train Loss: 0.3758 Train Acc: 0.8413\n",
            "Epoch: 191/200 Validation Loss: 0.4287 Validation Acc: 0.7989\n",
            "Epoch: 194/200 Train Loss: 0.3756 Train Acc: 0.8399\n",
            "Epoch: 194/200 Validation Loss: 0.4301 Validation Acc: 0.7989\n",
            "Epoch: 196/200 Train Loss: 0.3746 Train Acc: 0.8413\n",
            "Epoch: 196/200 Validation Loss: 0.4344 Validation Acc: 0.7989\n",
            "Epoch: 198/200 Train Loss: 0.3742 Train Acc: 0.8413\n",
            "Epoch: 198/200 Validation Loss: 0.4247 Validation Acc: 0.7989\n",
            "Epoch: 200/200 Train Loss: 0.3741 Train Acc: 0.8427\n",
            "Epoch: 200/200 Validation Loss: 0.4264 Validation Acc: 0.7989\n"
          ],
          "name": "stdout"
        }
      ]
    },
    {
      "cell_type": "code",
      "metadata": {
        "id": "u4Dq-yDXFR1o",
        "colab_type": "code",
        "colab": {
          "base_uri": "https://localhost:8080/",
          "height": 265
        },
        "outputId": "ed6b1bef-0fde-48e9-b355-17e3f26f22dd"
      },
      "source": [
        "plt.plot(x_collect, train_loss_collect, \"r--\")\n",
        "plt.plot(x_collect, valid_loss_collect, \"g^\")\n",
        "plt.show()"
      ],
      "execution_count": 16,
      "outputs": [
        {
          "output_type": "display_data",
          "data": {
            "image/png": "[encoded data removed]",
            "text/plain": [
              "<Figure size 432x288 with 1 Axes>"
            ]
          },
          "metadata": {
            "tags": []
          }
        }
      ]
    },
    {
      "cell_type": "code",
      "metadata": {
        "id": "S27A0TImFdXk",
        "colab_type": "code",
        "colab": {
          "base_uri": "https://localhost:8080/",
          "height": 267
        },
        "outputId": "1be13e46-2810-42c1-a8f7-31918f530718"
      },
      "source": [
        "plt.plot(x_collect, train_acc_collect, \"r--\")\n",
        "plt.plot(x_collect, valid_acc_collect, \"g^\")\n",
        "plt.show()"
      ],
      "execution_count": 17,
      "outputs": [
        {
          "output_type": "display_data",
          "data": {
            "image/png": "[encoded data removed]",
            "text/plain": [
              "<Figure size 432x288 with 1 Axes>"
            ]
          },
          "metadata": {
            "tags": []
          }
        }
      ]
    },
    {
      "cell_type": "code",
      "metadata": {
        "id": "nbyuA8m_FhiP",
        "colab_type": "code",
        "colab": {
          "base_uri": "https://localhost:8080/",
          "height": 208
        },
        "outputId": "325dff19-054b-42ae-cbe7-bb88d0fb6e3a"
      },
      "source": [
        "model=build_neural_network()\n",
        "restorer=tf.train.Saver()\n",
        "with tf.Session() as sess:\n",
        "  restorer.restore(sess,\"./titanic.ckpt\")\n",
        "  feed={\n",
        "      model.inputs:test_data,\n",
        "      model.is_training:False\n",
        "  }\n",
        "  test_predict=sess.run(model.predicted,feed_dict=feed)\n",
        "\n",
        "test_predict[:10]"
      ],
      "execution_count": 18,
      "outputs": [
        {
          "output_type": "stream",
          "text": [
            "INFO:tensorflow:Restoring parameters from ./titanic.ckpt\n"
          ],
          "name": "stdout"
        },
        {
          "output_type": "execute_result",
          "data": {
            "text/plain": [
              "array([[0.11659506],\n",
              "       [0.40112156],\n",
              "       [0.02048436],\n",
              "       [0.14087674],\n",
              "       [0.3593511 ],\n",
              "       [0.13242844],\n",
              "       [0.6147425 ],\n",
              "       [0.15695527],\n",
              "       [0.6183718 ],\n",
              "       [0.17176211]], dtype=float32)"
            ]
          },
          "metadata": {
            "tags": []
          },
          "execution_count": 18
        }
      ]
    },
    {
      "cell_type": "code",
      "metadata": {
        "id": "wl15aQN-Fj69",
        "colab_type": "code",
        "colab": {
          "base_uri": "https://localhost:8080/",
          "height": 191
        },
        "outputId": "e3eed80b-c1b9-412e-dd2c-67c15084a471"
      },
      "source": [
        "from sklearn.preprocessing import Binarizer\n",
        "binarizer=Binarizer(0.5)\n",
        "test_predict_result=binarizer.fit_transform(test_predict)\n",
        "test_predict_result=test_predict_result.astype(np.int32)\n",
        "test_predict_result[:10]"
      ],
      "execution_count": 19,
      "outputs": [
        {
          "output_type": "execute_result",
          "data": {
            "text/plain": [
              "array([[0],\n",
              "       [0],\n",
              "       [0],\n",
              "       [0],\n",
              "       [0],\n",
              "       [0],\n",
              "       [1],\n",
              "       [0],\n",
              "       [1],\n",
              "       [0]], dtype=int32)"
            ]
          },
          "metadata": {
            "tags": []
          },
          "execution_count": 19
        }
      ]
    },
    {
      "cell_type": "code",
      "metadata": {
        "id": "PAd8FzPQFl6r",
        "colab_type": "code",
        "colab": {
          "base_uri": "https://localhost:8080/",
          "height": 355
        },
        "outputId": "ff89bd89-d52f-4299-99a8-d2df1312427d"
      },
      "source": [
        "passenger_id=test_passenger_id.copy()\n",
        "evaluation=passenger_id.to_frame()\n",
        "evaluation[\"Survived\"]=test_predict_result\n",
        "evaluation[:10]"
      ],
      "execution_count": 20,
      "outputs": [
        {
          "output_type": "execute_result",
          "data": {
            "text/html": [
              "<div>\n",
              "<style scoped>\n",
              "    .dataframe tbody tr th:only-of-type {\n",
              "        vertical-align: middle;\n",
              "    }\n",
              "\n",
              "    .dataframe tbody tr th {\n",
              "        vertical-align: top;\n",
              "    }\n",
              "\n",
              "    .dataframe thead th {\n",
              "        text-align: right;\n",
              "    }\n",
              "</style>\n",
              "<table border=\"1\" class=\"dataframe\">\n",
              "  <thead>\n",
              "    <tr style=\"text-align: right;\">\n",
              "      <th></th>\n",
              "      <th>PassengerId</th>\n",
              "      <th>Survived</th>\n",
              "    </tr>\n",
              "  </thead>\n",
              "  <tbody>\n",
              "    <tr>\n",
              "      <th>0</th>\n",
              "      <td>892</td>\n",
              "      <td>0</td>\n",
              "    </tr>\n",
              "    <tr>\n",
              "      <th>1</th>\n",
              "      <td>893</td>\n",
              "      <td>0</td>\n",
              "    </tr>\n",
              "    <tr>\n",
              "      <th>2</th>\n",
              "      <td>894</td>\n",
              "      <td>0</td>\n",
              "    </tr>\n",
              "    <tr>\n",
              "      <th>3</th>\n",
              "      <td>895</td>\n",
              "      <td>0</td>\n",
              "    </tr>\n",
              "    <tr>\n",
              "      <th>4</th>\n",
              "      <td>896</td>\n",
              "      <td>0</td>\n",
              "    </tr>\n",
              "    <tr>\n",
              "      <th>5</th>\n",
              "      <td>897</td>\n",
              "      <td>0</td>\n",
              "    </tr>\n",
              "    <tr>\n",
              "      <th>6</th>\n",
              "      <td>898</td>\n",
              "      <td>1</td>\n",
              "    </tr>\n",
              "    <tr>\n",
              "      <th>7</th>\n",
              "      <td>899</td>\n",
              "      <td>0</td>\n",
              "    </tr>\n",
              "    <tr>\n",
              "      <th>8</th>\n",
              "      <td>900</td>\n",
              "      <td>1</td>\n",
              "    </tr>\n",
              "    <tr>\n",
              "      <th>9</th>\n",
              "      <td>901</td>\n",
              "      <td>0</td>\n",
              "    </tr>\n",
              "  </tbody>\n",
              "</table>\n",
              "</div>"
            ],
            "text/plain": [
              "   PassengerId  Survived\n",
              "0          892         0\n",
              "1          893         0\n",
              "2          894         0\n",
              "3          895         0\n",
              "4          896         0\n",
              "5          897         0\n",
              "6          898         1\n",
              "7          899         0\n",
              "8          900         1\n",
              "9          901         0"
            ]
          },
          "metadata": {
            "tags": []
          },
          "execution_count": 20
        }
      ]
    },
    {
      "cell_type": "code",
      "metadata": {
        "id": "rcAYsSqrFoRu",
        "colab_type": "code",
        "colab": {}
      },
      "source": [
        "evaluation.to_csv(\"evaluation_submission.csv\",index=False)"
      ],
      "execution_count": 0,
      "outputs": []
    }
  ]
}