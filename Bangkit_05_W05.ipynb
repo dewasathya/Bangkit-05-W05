{
  "nbformat": 4,
  "nbformat_minor": 0,
  "metadata": {
    "colab": {
      "name": "Bangkit 05-W05.ipynb",
      "provenance": [],
      "collapsed_sections": [],
      "toc_visible": true,
      "include_colab_link": true
    },
    "kernelspec": {
      "name": "python3",
      "display_name": "Python 3"
    }
  },
  "cells": [
    {
      "cell_type": "markdown",
      "metadata": {
        "id": "view-in-github",
        "colab_type": "text"
      },
      "source": [
        "<a href=\"https://colab.research.google.com/github/dewasathya/Bangkit-05-W05/blob/master/Bangkit_05_W05.ipynb\" target=\"_parent\"><img src=\"https://colab.research.google.com/assets/colab-badge.svg\" alt=\"Open In Colab\"/></a>"
      ]
    },
    {
      "cell_type": "markdown",
      "metadata": {
        "id": "EuqUAPkMt6hp",
        "colab_type": "text"
      },
      "source": [
        "Import libraries and check TF version."
      ]
    },
    {
      "cell_type": "code",
      "metadata": {
        "id": "D4DVtkd9CxEa",
        "colab_type": "code",
        "outputId": "ccd04952-b56a-42d0-ee55-b51d4b570e56",
        "colab": {
          "base_uri": "https://localhost:8080/",
          "height": 50
        }
      },
      "source": [
        "# TensorFlow Library\n",
        "%tensorflow_version 1.x\n",
        "import tensorflow as tf\n",
        "\n",
        "# Feature Engineering Library\n",
        "from sklearn.impute import SimpleImputer\n",
        "\n",
        "# Helper Library\n",
        "import numpy as np\n",
        "import pandas as pd\n",
        "import matplotlib.pyplot as plt\n",
        "\n",
        "print(tf.__version__)"
      ],
      "execution_count": 0,
      "outputs": [
        {
          "output_type": "stream",
          "text": [
            "TensorFlow 1.x selected.\n",
            "1.15.2\n"
          ],
          "name": "stdout"
        }
      ]
    },
    {
      "cell_type": "markdown",
      "metadata": {
        "id": "Jk9xIOT7t1W9",
        "colab_type": "text"
      },
      "source": [
        "Get dataset from Github repo and load it to Pandas."
      ]
    },
    {
      "cell_type": "code",
      "metadata": {
        "id": "L7lzcAZ1tnVl",
        "colab_type": "code",
        "colab": {}
      },
      "source": [
        "DS_TRAINING_URL = 'https://raw.githubusercontent.com/dewasathya/Bangkit-05-W05/master/titanic-extended/train.csv'\n",
        "DS_TEST_URL = 'https://raw.githubusercontent.com/dewasathya/Bangkit-05-W05/master/titanic-extended/test.csv'\n",
        "\n",
        "train_data = pd.read_csv(DS_TRAINING_URL)\n",
        "test_data = pd.read_csv(DS_TEST_URL)\n",
        "\n",
        "#train_data"
      ],
      "execution_count": 0,
      "outputs": []
    },
    {
      "cell_type": "markdown",
      "metadata": {
        "id": "vtTk5eG6GBqT",
        "colab_type": "text"
      },
      "source": [
        "Filling empty cells with values.\n"
      ]
    },
    {
      "cell_type": "code",
      "metadata": {
        "id": "qGIvJw57xZwg",
        "colab_type": "code",
        "colab": {}
      },
      "source": [
        "# Feature Engineering\n",
        "def nan_padding(data, columns):\n",
        "  for column in columns:\n",
        "    imputer = SimpleImputer()\n",
        "    data[column] = imputer.fit_transform(data[column].values.reshape(-1, 1))\n",
        "  return data\n",
        "\n",
        "nan_columns = [\"Age\", \"SibSp\", \"Parch\"]\n",
        "train_data = nan_padding(train_data, nan_columns)\n",
        "test_data = nan_padding(test_data, nan_columns)"
      ],
      "execution_count": 0,
      "outputs": []
    },
    {
      "cell_type": "markdown",
      "metadata": {
        "id": "DCl4simtHNHW",
        "colab_type": "text"
      },
      "source": [
        "Saving Passenger ID for final result."
      ]
    },
    {
      "cell_type": "code",
      "metadata": {
        "id": "UpSDzs1rzWEI",
        "colab_type": "code",
        "colab": {}
      },
      "source": [
        "# Save PassengerId for evaluation\n",
        "test_passenger_id = test_data[\"PassengerId\"]"
      ],
      "execution_count": 0,
      "outputs": []
    },
    {
      "cell_type": "markdown",
      "metadata": {
        "id": "Rv0yNEzMHWoe",
        "colab_type": "text"
      },
      "source": [
        "Dropping unnecessary columns from training and test dataset."
      ]
    },
    {
      "cell_type": "code",
      "metadata": {
        "id": "bvxWJ5O8zqXO",
        "colab_type": "code",
        "colab": {}
      },
      "source": [
        "# Drop not needed columns\n",
        "def drop_not_concerned(data, columns):\n",
        "  return data.drop(columns, axis=1)\n",
        "\n",
        "not_concerned_columns = [\n",
        "                         \"PassengerId\", \"Name\", \"Ticket\", \"Fare\",\n",
        "                         \"Cabin\", \"Embarked\", \"WikiId\", \"Name_wiki\",\n",
        "                         \"Age_wiki\", \"Hometown\", \"Boarded\", \"Destination\",\n",
        "                         \"Lifeboat\", \"Body\", \"Class\"\n",
        "]\n",
        "train_data = drop_not_concerned(train_data, not_concerned_columns)\n",
        "test_data = drop_not_concerned(test_data, not_concerned_columns)"
      ],
      "execution_count": 0,
      "outputs": []
    },
    {
      "cell_type": "code",
      "metadata": {
        "id": "y-npQKxU1KV-",
        "colab_type": "code",
        "outputId": "4a8d73b9-665d-4bf2-d189-dc0d66ad6873",
        "colab": {
          "base_uri": "https://localhost:8080/",
          "height": 195
        }
      },
      "source": [
        "train_data.head()"
      ],
      "execution_count": 0,
      "outputs": [
        {
          "output_type": "execute_result",
          "data": {
            "text/html": [
              "<div>\n",
              "<style scoped>\n",
              "    .dataframe tbody tr th:only-of-type {\n",
              "        vertical-align: middle;\n",
              "    }\n",
              "\n",
              "    .dataframe tbody tr th {\n",
              "        vertical-align: top;\n",
              "    }\n",
              "\n",
              "    .dataframe thead th {\n",
              "        text-align: right;\n",
              "    }\n",
              "</style>\n",
              "<table border=\"1\" class=\"dataframe\">\n",
              "  <thead>\n",
              "    <tr style=\"text-align: right;\">\n",
              "      <th></th>\n",
              "      <th>Survived</th>\n",
              "      <th>Pclass</th>\n",
              "      <th>Sex</th>\n",
              "      <th>Age</th>\n",
              "      <th>SibSp</th>\n",
              "      <th>Parch</th>\n",
              "    </tr>\n",
              "  </thead>\n",
              "  <tbody>\n",
              "    <tr>\n",
              "      <th>0</th>\n",
              "      <td>0.0</td>\n",
              "      <td>3</td>\n",
              "      <td>male</td>\n",
              "      <td>22.0</td>\n",
              "      <td>1.0</td>\n",
              "      <td>0.0</td>\n",
              "    </tr>\n",
              "    <tr>\n",
              "      <th>1</th>\n",
              "      <td>1.0</td>\n",
              "      <td>1</td>\n",
              "      <td>female</td>\n",
              "      <td>38.0</td>\n",
              "      <td>1.0</td>\n",
              "      <td>0.0</td>\n",
              "    </tr>\n",
              "    <tr>\n",
              "      <th>2</th>\n",
              "      <td>1.0</td>\n",
              "      <td>3</td>\n",
              "      <td>female</td>\n",
              "      <td>26.0</td>\n",
              "      <td>0.0</td>\n",
              "      <td>0.0</td>\n",
              "    </tr>\n",
              "    <tr>\n",
              "      <th>3</th>\n",
              "      <td>1.0</td>\n",
              "      <td>1</td>\n",
              "      <td>female</td>\n",
              "      <td>35.0</td>\n",
              "      <td>1.0</td>\n",
              "      <td>0.0</td>\n",
              "    </tr>\n",
              "    <tr>\n",
              "      <th>4</th>\n",
              "      <td>0.0</td>\n",
              "      <td>3</td>\n",
              "      <td>male</td>\n",
              "      <td>35.0</td>\n",
              "      <td>0.0</td>\n",
              "      <td>0.0</td>\n",
              "    </tr>\n",
              "  </tbody>\n",
              "</table>\n",
              "</div>"
            ],
            "text/plain": [
              "   Survived  Pclass     Sex   Age  SibSp  Parch\n",
              "0       0.0       3    male  22.0    1.0    0.0\n",
              "1       1.0       1  female  38.0    1.0    0.0\n",
              "2       1.0       3  female  26.0    0.0    0.0\n",
              "3       1.0       1  female  35.0    1.0    0.0\n",
              "4       0.0       3    male  35.0    0.0    0.0"
            ]
          },
          "metadata": {
            "tags": []
          },
          "execution_count": 6
        }
      ]
    },
    {
      "cell_type": "code",
      "metadata": {
        "id": "XwtultpioeRj",
        "colab_type": "code",
        "outputId": "d9153667-c379-4446-8767-3a930394cd0c",
        "colab": {
          "base_uri": "https://localhost:8080/",
          "height": 195
        }
      },
      "source": [
        "test_data.head()"
      ],
      "execution_count": 0,
      "outputs": [
        {
          "output_type": "execute_result",
          "data": {
            "text/html": [
              "<div>\n",
              "<style scoped>\n",
              "    .dataframe tbody tr th:only-of-type {\n",
              "        vertical-align: middle;\n",
              "    }\n",
              "\n",
              "    .dataframe tbody tr th {\n",
              "        vertical-align: top;\n",
              "    }\n",
              "\n",
              "    .dataframe thead th {\n",
              "        text-align: right;\n",
              "    }\n",
              "</style>\n",
              "<table border=\"1\" class=\"dataframe\">\n",
              "  <thead>\n",
              "    <tr style=\"text-align: right;\">\n",
              "      <th></th>\n",
              "      <th>Pclass</th>\n",
              "      <th>Sex</th>\n",
              "      <th>Age</th>\n",
              "      <th>SibSp</th>\n",
              "      <th>Parch</th>\n",
              "    </tr>\n",
              "  </thead>\n",
              "  <tbody>\n",
              "    <tr>\n",
              "      <th>0</th>\n",
              "      <td>3</td>\n",
              "      <td>male</td>\n",
              "      <td>34.5</td>\n",
              "      <td>0.0</td>\n",
              "      <td>0.0</td>\n",
              "    </tr>\n",
              "    <tr>\n",
              "      <th>1</th>\n",
              "      <td>3</td>\n",
              "      <td>female</td>\n",
              "      <td>47.0</td>\n",
              "      <td>1.0</td>\n",
              "      <td>0.0</td>\n",
              "    </tr>\n",
              "    <tr>\n",
              "      <th>2</th>\n",
              "      <td>2</td>\n",
              "      <td>male</td>\n",
              "      <td>62.0</td>\n",
              "      <td>0.0</td>\n",
              "      <td>0.0</td>\n",
              "    </tr>\n",
              "    <tr>\n",
              "      <th>3</th>\n",
              "      <td>3</td>\n",
              "      <td>male</td>\n",
              "      <td>27.0</td>\n",
              "      <td>0.0</td>\n",
              "      <td>0.0</td>\n",
              "    </tr>\n",
              "    <tr>\n",
              "      <th>4</th>\n",
              "      <td>3</td>\n",
              "      <td>female</td>\n",
              "      <td>22.0</td>\n",
              "      <td>1.0</td>\n",
              "      <td>1.0</td>\n",
              "    </tr>\n",
              "  </tbody>\n",
              "</table>\n",
              "</div>"
            ],
            "text/plain": [
              "   Pclass     Sex   Age  SibSp  Parch\n",
              "0       3    male  34.5    0.0    0.0\n",
              "1       3  female  47.0    1.0    0.0\n",
              "2       2    male  62.0    0.0    0.0\n",
              "3       3    male  27.0    0.0    0.0\n",
              "4       3  female  22.0    1.0    1.0"
            ]
          },
          "metadata": {
            "tags": []
          },
          "execution_count": 7
        }
      ]
    },
    {
      "cell_type": "markdown",
      "metadata": {
        "id": "yUWcatMGHsCw",
        "colab_type": "text"
      },
      "source": [
        "Separate Pclass into 3 (Pclass_1, Pclass_2, Pclass_3)."
      ]
    },
    {
      "cell_type": "code",
      "metadata": {
        "id": "JJELGkHToqlA",
        "colab_type": "code",
        "colab": {}
      },
      "source": [
        "def dummy_data(data, columns):\n",
        "  for column in columns:\n",
        "    data = pd.concat([data, pd.get_dummies(data[column], prefix=column)], axis=1)\n",
        "    data = data.drop(column, axis=1)\n",
        "  return data\n",
        "\n",
        "dummy_columns = [\"Pclass\"]\n",
        "train_data=dummy_data(train_data, dummy_columns)\n",
        "test_data=dummy_data(test_data, dummy_columns)"
      ],
      "execution_count": 0,
      "outputs": []
    },
    {
      "cell_type": "code",
      "metadata": {
        "id": "nF5wiOpQpL1Z",
        "colab_type": "code",
        "outputId": "1bc2e049-c326-4aea-a1c8-a26455951ca6",
        "colab": {
          "base_uri": "https://localhost:8080/",
          "height": 195
        }
      },
      "source": [
        "test_data.head()"
      ],
      "execution_count": 0,
      "outputs": [
        {
          "output_type": "execute_result",
          "data": {
            "text/html": [
              "<div>\n",
              "<style scoped>\n",
              "    .dataframe tbody tr th:only-of-type {\n",
              "        vertical-align: middle;\n",
              "    }\n",
              "\n",
              "    .dataframe tbody tr th {\n",
              "        vertical-align: top;\n",
              "    }\n",
              "\n",
              "    .dataframe thead th {\n",
              "        text-align: right;\n",
              "    }\n",
              "</style>\n",
              "<table border=\"1\" class=\"dataframe\">\n",
              "  <thead>\n",
              "    <tr style=\"text-align: right;\">\n",
              "      <th></th>\n",
              "      <th>Sex</th>\n",
              "      <th>Age</th>\n",
              "      <th>SibSp</th>\n",
              "      <th>Parch</th>\n",
              "      <th>Pclass_1</th>\n",
              "      <th>Pclass_2</th>\n",
              "      <th>Pclass_3</th>\n",
              "    </tr>\n",
              "  </thead>\n",
              "  <tbody>\n",
              "    <tr>\n",
              "      <th>0</th>\n",
              "      <td>male</td>\n",
              "      <td>34.5</td>\n",
              "      <td>0.0</td>\n",
              "      <td>0.0</td>\n",
              "      <td>0</td>\n",
              "      <td>0</td>\n",
              "      <td>1</td>\n",
              "    </tr>\n",
              "    <tr>\n",
              "      <th>1</th>\n",
              "      <td>female</td>\n",
              "      <td>47.0</td>\n",
              "      <td>1.0</td>\n",
              "      <td>0.0</td>\n",
              "      <td>0</td>\n",
              "      <td>0</td>\n",
              "      <td>1</td>\n",
              "    </tr>\n",
              "    <tr>\n",
              "      <th>2</th>\n",
              "      <td>male</td>\n",
              "      <td>62.0</td>\n",
              "      <td>0.0</td>\n",
              "      <td>0.0</td>\n",
              "      <td>0</td>\n",
              "      <td>1</td>\n",
              "      <td>0</td>\n",
              "    </tr>\n",
              "    <tr>\n",
              "      <th>3</th>\n",
              "      <td>male</td>\n",
              "      <td>27.0</td>\n",
              "      <td>0.0</td>\n",
              "      <td>0.0</td>\n",
              "      <td>0</td>\n",
              "      <td>0</td>\n",
              "      <td>1</td>\n",
              "    </tr>\n",
              "    <tr>\n",
              "      <th>4</th>\n",
              "      <td>female</td>\n",
              "      <td>22.0</td>\n",
              "      <td>1.0</td>\n",
              "      <td>1.0</td>\n",
              "      <td>0</td>\n",
              "      <td>0</td>\n",
              "      <td>1</td>\n",
              "    </tr>\n",
              "  </tbody>\n",
              "</table>\n",
              "</div>"
            ],
            "text/plain": [
              "      Sex   Age  SibSp  Parch  Pclass_1  Pclass_2  Pclass_3\n",
              "0    male  34.5    0.0    0.0         0         0         1\n",
              "1  female  47.0    1.0    0.0         0         0         1\n",
              "2    male  62.0    0.0    0.0         0         1         0\n",
              "3    male  27.0    0.0    0.0         0         0         1\n",
              "4  female  22.0    1.0    1.0         0         0         1"
            ]
          },
          "metadata": {
            "tags": []
          },
          "execution_count": 9
        }
      ]
    },
    {
      "cell_type": "markdown",
      "metadata": {
        "id": "33wjHGB0LxBH",
        "colab_type": "text"
      },
      "source": [
        "Transform sex to number. Male = 0, Female = 1."
      ]
    },
    {
      "cell_type": "code",
      "metadata": {
        "id": "1fCRwr6gjQDK",
        "colab_type": "code",
        "outputId": "830a8975-b284-462d-f157-80f4df0e65b0",
        "colab": {
          "base_uri": "https://localhost:8080/",
          "height": 195
        }
      },
      "source": [
        "from sklearn.preprocessing import LabelEncoder\n",
        "\n",
        "def sex_to_int(data):\n",
        "  le = LabelEncoder()\n",
        "  le.fit([\"male\",\"female\"])\n",
        "  data[\"Sex\"]=le.transform(data[\"Sex\"]) \n",
        "  return data\n",
        "\n",
        "train_data = sex_to_int(train_data)\n",
        "test_data = sex_to_int(test_data)\n",
        "train_data.head()"
      ],
      "execution_count": 0,
      "outputs": [
        {
          "output_type": "execute_result",
          "data": {
            "text/html": [
              "<div>\n",
              "<style scoped>\n",
              "    .dataframe tbody tr th:only-of-type {\n",
              "        vertical-align: middle;\n",
              "    }\n",
              "\n",
              "    .dataframe tbody tr th {\n",
              "        vertical-align: top;\n",
              "    }\n",
              "\n",
              "    .dataframe thead th {\n",
              "        text-align: right;\n",
              "    }\n",
              "</style>\n",
              "<table border=\"1\" class=\"dataframe\">\n",
              "  <thead>\n",
              "    <tr style=\"text-align: right;\">\n",
              "      <th></th>\n",
              "      <th>Survived</th>\n",
              "      <th>Sex</th>\n",
              "      <th>Age</th>\n",
              "      <th>SibSp</th>\n",
              "      <th>Parch</th>\n",
              "      <th>Pclass_1</th>\n",
              "      <th>Pclass_2</th>\n",
              "      <th>Pclass_3</th>\n",
              "    </tr>\n",
              "  </thead>\n",
              "  <tbody>\n",
              "    <tr>\n",
              "      <th>0</th>\n",
              "      <td>0.0</td>\n",
              "      <td>1</td>\n",
              "      <td>22.0</td>\n",
              "      <td>1.0</td>\n",
              "      <td>0.0</td>\n",
              "      <td>0</td>\n",
              "      <td>0</td>\n",
              "      <td>1</td>\n",
              "    </tr>\n",
              "    <tr>\n",
              "      <th>1</th>\n",
              "      <td>1.0</td>\n",
              "      <td>0</td>\n",
              "      <td>38.0</td>\n",
              "      <td>1.0</td>\n",
              "      <td>0.0</td>\n",
              "      <td>1</td>\n",
              "      <td>0</td>\n",
              "      <td>0</td>\n",
              "    </tr>\n",
              "    <tr>\n",
              "      <th>2</th>\n",
              "      <td>1.0</td>\n",
              "      <td>0</td>\n",
              "      <td>26.0</td>\n",
              "      <td>0.0</td>\n",
              "      <td>0.0</td>\n",
              "      <td>0</td>\n",
              "      <td>0</td>\n",
              "      <td>1</td>\n",
              "    </tr>\n",
              "    <tr>\n",
              "      <th>3</th>\n",
              "      <td>1.0</td>\n",
              "      <td>0</td>\n",
              "      <td>35.0</td>\n",
              "      <td>1.0</td>\n",
              "      <td>0.0</td>\n",
              "      <td>1</td>\n",
              "      <td>0</td>\n",
              "      <td>0</td>\n",
              "    </tr>\n",
              "    <tr>\n",
              "      <th>4</th>\n",
              "      <td>0.0</td>\n",
              "      <td>1</td>\n",
              "      <td>35.0</td>\n",
              "      <td>0.0</td>\n",
              "      <td>0.0</td>\n",
              "      <td>0</td>\n",
              "      <td>0</td>\n",
              "      <td>1</td>\n",
              "    </tr>\n",
              "  </tbody>\n",
              "</table>\n",
              "</div>"
            ],
            "text/plain": [
              "   Survived  Sex   Age  SibSp  Parch  Pclass_1  Pclass_2  Pclass_3\n",
              "0       0.0    1  22.0    1.0    0.0         0         0         1\n",
              "1       1.0    0  38.0    1.0    0.0         1         0         0\n",
              "2       1.0    0  26.0    0.0    0.0         0         0         1\n",
              "3       1.0    0  35.0    1.0    0.0         1         0         0\n",
              "4       0.0    1  35.0    0.0    0.0         0         0         1"
            ]
          },
          "metadata": {
            "tags": []
          },
          "execution_count": 10
        }
      ]
    },
    {
      "cell_type": "markdown",
      "metadata": {
        "id": "OG7rIerRMNay",
        "colab_type": "text"
      },
      "source": [
        "Normalize passenger's age."
      ]
    },
    {
      "cell_type": "code",
      "metadata": {
        "id": "MXhXK3Rsjbq2",
        "colab_type": "code",
        "outputId": "f4c15047-3307-4638-bc91-ff26f2c53c40",
        "colab": {
          "base_uri": "https://localhost:8080/",
          "height": 195
        }
      },
      "source": [
        "from sklearn.preprocessing import MinMaxScaler\n",
        "\n",
        "def normalize_age(data):\n",
        "  scaler = MinMaxScaler()\n",
        "  data[\"Age\"] = scaler.fit_transform(data[\"Age\"].values.reshape(-1,1))\n",
        "  return data\n",
        "  \n",
        "train_data = normalize_age(train_data)\n",
        "test_data = normalize_age(test_data)\n",
        "train_data.head()"
      ],
      "execution_count": 0,
      "outputs": [
        {
          "output_type": "execute_result",
          "data": {
            "text/html": [
              "<div>\n",
              "<style scoped>\n",
              "    .dataframe tbody tr th:only-of-type {\n",
              "        vertical-align: middle;\n",
              "    }\n",
              "\n",
              "    .dataframe tbody tr th {\n",
              "        vertical-align: top;\n",
              "    }\n",
              "\n",
              "    .dataframe thead th {\n",
              "        text-align: right;\n",
              "    }\n",
              "</style>\n",
              "<table border=\"1\" class=\"dataframe\">\n",
              "  <thead>\n",
              "    <tr style=\"text-align: right;\">\n",
              "      <th></th>\n",
              "      <th>Survived</th>\n",
              "      <th>Sex</th>\n",
              "      <th>Age</th>\n",
              "      <th>SibSp</th>\n",
              "      <th>Parch</th>\n",
              "      <th>Pclass_1</th>\n",
              "      <th>Pclass_2</th>\n",
              "      <th>Pclass_3</th>\n",
              "    </tr>\n",
              "  </thead>\n",
              "  <tbody>\n",
              "    <tr>\n",
              "      <th>0</th>\n",
              "      <td>0.0</td>\n",
              "      <td>1</td>\n",
              "      <td>0.271174</td>\n",
              "      <td>1.0</td>\n",
              "      <td>0.0</td>\n",
              "      <td>0</td>\n",
              "      <td>0</td>\n",
              "      <td>1</td>\n",
              "    </tr>\n",
              "    <tr>\n",
              "      <th>1</th>\n",
              "      <td>1.0</td>\n",
              "      <td>0</td>\n",
              "      <td>0.472229</td>\n",
              "      <td>1.0</td>\n",
              "      <td>0.0</td>\n",
              "      <td>1</td>\n",
              "      <td>0</td>\n",
              "      <td>0</td>\n",
              "    </tr>\n",
              "    <tr>\n",
              "      <th>2</th>\n",
              "      <td>1.0</td>\n",
              "      <td>0</td>\n",
              "      <td>0.321438</td>\n",
              "      <td>0.0</td>\n",
              "      <td>0.0</td>\n",
              "      <td>0</td>\n",
              "      <td>0</td>\n",
              "      <td>1</td>\n",
              "    </tr>\n",
              "    <tr>\n",
              "      <th>3</th>\n",
              "      <td>1.0</td>\n",
              "      <td>0</td>\n",
              "      <td>0.434531</td>\n",
              "      <td>1.0</td>\n",
              "      <td>0.0</td>\n",
              "      <td>1</td>\n",
              "      <td>0</td>\n",
              "      <td>0</td>\n",
              "    </tr>\n",
              "    <tr>\n",
              "      <th>4</th>\n",
              "      <td>0.0</td>\n",
              "      <td>1</td>\n",
              "      <td>0.434531</td>\n",
              "      <td>0.0</td>\n",
              "      <td>0.0</td>\n",
              "      <td>0</td>\n",
              "      <td>0</td>\n",
              "      <td>1</td>\n",
              "    </tr>\n",
              "  </tbody>\n",
              "</table>\n",
              "</div>"
            ],
            "text/plain": [
              "   Survived  Sex       Age  SibSp  Parch  Pclass_1  Pclass_2  Pclass_3\n",
              "0       0.0    1  0.271174    1.0    0.0         0         0         1\n",
              "1       1.0    0  0.472229    1.0    0.0         1         0         0\n",
              "2       1.0    0  0.321438    0.0    0.0         0         0         1\n",
              "3       1.0    0  0.434531    1.0    0.0         1         0         0\n",
              "4       0.0    1  0.434531    0.0    0.0         0         0         1"
            ]
          },
          "metadata": {
            "tags": []
          },
          "execution_count": 11
        }
      ]
    },
    {
      "cell_type": "code",
      "metadata": {
        "id": "kUODrT3RjoCx",
        "colab_type": "code",
        "outputId": "fc969b75-867b-4f2c-99c5-f76441372a5a",
        "colab": {
          "base_uri": "https://localhost:8080/",
          "height": 134
        }
      },
      "source": [
        "from sklearn.preprocessing import LabelBinarizer\n",
        "from sklearn.model_selection import train_test_split\n",
        "\n",
        "def split_valid_test_data(data, fraction=(1 - 0.8)):\n",
        "  data_y = data[\"Survived\"]\n",
        "  lb = LabelBinarizer()\n",
        "  data_y = lb.fit_transform(data_y)\n",
        "\n",
        "  data_x = data.drop([\"Survived\"], axis=1)\n",
        "\n",
        "  train_x, valid_x, train_y, valid_y = train_test_split(data_x, data_y, test_size=fraction)\n",
        "\n",
        "  return train_x.values, train_y, valid_x, valid_y\n",
        "\n",
        "train_x, train_y, valid_x, valid_y = split_valid_test_data(train_data)\n",
        "print(\"train_x:{}\".format(train_x.shape))\n",
        "print(\"train_y:{}\".format(train_y.shape))\n",
        "print(\"train_y content:{}\".format(train_y[:3]))\n",
        "\n",
        "print(\"valid_x:{}\".format(valid_x.shape))\n",
        "print(\"valid_y:{}\".format(valid_y.shape))"
      ],
      "execution_count": 0,
      "outputs": [
        {
          "output_type": "stream",
          "text": [
            "train_x:(712, 7)\n",
            "train_y:(712, 1)\n",
            "train_y content:[[1]\n",
            " [1]\n",
            " [0]]\n",
            "valid_x:(179, 7)\n",
            "valid_y:(179, 1)\n"
          ],
          "name": "stdout"
        }
      ]
    },
    {
      "cell_type": "markdown",
      "metadata": {
        "id": "5Z0Uj5S0Mhgn",
        "colab_type": "text"
      },
      "source": [
        "Build the neural network."
      ]
    },
    {
      "cell_type": "code",
      "metadata": {
        "id": "_-8nVC7vkH-b",
        "colab_type": "code",
        "outputId": "1fc37d79-c6fa-421d-c149-3a3c35b31877",
        "colab": {
          "base_uri": "https://localhost:8080/",
          "height": 373
        }
      },
      "source": [
        "# Build Neural Network\n",
        "from collections import namedtuple\n",
        "\n",
        "def build_neural_network(hidden_units=10):\n",
        "  tf.reset_default_graph()\n",
        "  inputs = tf.placeholder(tf.float32, shape=[None, train_x.shape[1]])\n",
        "  labels = tf.placeholder(tf.float32, shape=[None, 1])\n",
        "  learning_rate = tf.placeholder(tf.float32)\n",
        "  is_training=tf.Variable(True,dtype=tf.bool)\n",
        "\n",
        "  initializer = tf.contrib.layers.xavier_initializer()\n",
        "  fc = tf.layers.dense(inputs, hidden_units, activation=None,kernel_initializer=initializer)\n",
        "  fc=tf.layers.batch_normalization(fc, training=is_training)\n",
        "  fc=tf.nn.relu(fc)\n",
        "\n",
        "  logits = tf.layers.dense(fc, 1, activation=None)\n",
        "  cross_entropy = tf.nn.sigmoid_cross_entropy_with_logits(labels=labels, logits=logits)\n",
        "  cost = tf.reduce_mean(cross_entropy)\n",
        "\n",
        "  with tf.control_dependencies(tf.get_collection(tf.GraphKeys.UPDATE_OPS)):\n",
        "      optimizer = tf.train.AdamOptimizer(learning_rate=learning_rate).minimize(cost)\n",
        "\n",
        "  predicted = tf.nn.sigmoid(logits)\n",
        "  correct_pred = tf.equal(tf.round(predicted), labels)\n",
        "  accuracy = tf.reduce_mean(tf.cast(correct_pred, tf.float32))\n",
        "\n",
        "  # Export the nodes \n",
        "  export_nodes = ['inputs', 'labels', 'learning_rate','is_training', 'logits',\n",
        "                  'cost', 'optimizer', 'predicted', 'accuracy']\n",
        "  Graph = namedtuple('Graph', export_nodes)\n",
        "  local_dict = locals()\n",
        "  graph = Graph(*[local_dict[each] for each in export_nodes])\n",
        "\n",
        "  return graph\n",
        "\n",
        "model = build_neural_network()"
      ],
      "execution_count": 0,
      "outputs": [
        {
          "output_type": "stream",
          "text": [
            "WARNING:tensorflow:\n",
            "The TensorFlow contrib module will not be included in TensorFlow 2.0.\n",
            "For more information, please see:\n",
            "  * https://github.com/tensorflow/community/blob/master/rfcs/20180907-contrib-sunset.md\n",
            "  * https://github.com/tensorflow/addons\n",
            "  * https://github.com/tensorflow/io (for I/O related ops)\n",
            "If you depend on functionality not listed there, please file an issue.\n",
            "\n",
            "WARNING:tensorflow:From <ipython-input-13-f303ceef9516>:11: dense (from tensorflow.python.layers.core) is deprecated and will be removed in a future version.\n",
            "Instructions for updating:\n",
            "Use keras.layers.Dense instead.\n",
            "WARNING:tensorflow:From /tensorflow-1.15.2/python3.6/tensorflow_core/python/layers/core.py:187: Layer.apply (from tensorflow.python.keras.engine.base_layer) is deprecated and will be removed in a future version.\n",
            "Instructions for updating:\n",
            "Please use `layer.__call__` method instead.\n",
            "WARNING:tensorflow:From <ipython-input-13-f303ceef9516>:12: batch_normalization (from tensorflow.python.layers.normalization) is deprecated and will be removed in a future version.\n",
            "Instructions for updating:\n",
            "Use keras.layers.BatchNormalization instead.  In particular, `tf.control_dependencies(tf.GraphKeys.UPDATE_OPS)` should not be used (consult the `tf.keras.layers.batch_normalization` documentation).\n",
            "WARNING:tensorflow:From /tensorflow-1.15.2/python3.6/tensorflow_core/python/ops/nn_impl.py:183: where (from tensorflow.python.ops.array_ops) is deprecated and will be removed in a future version.\n",
            "Instructions for updating:\n",
            "Use tf.where in 2.0, which has the same broadcast rule as np.where\n"
          ],
          "name": "stdout"
        }
      ]
    },
    {
      "cell_type": "code",
      "metadata": {
        "id": "HvQib1vEFFw9",
        "colab_type": "code",
        "colab": {}
      },
      "source": [
        "def get_batch(data_x,data_y,batch_size=32):\n",
        "  batch_n=len(data_x)//batch_size\n",
        "  for i in range(batch_n):\n",
        "    batch_x=data_x[i*batch_size:(i+1)*batch_size]\n",
        "    batch_y=data_y[i*batch_size:(i+1)*batch_size]\n",
        "    \n",
        "    yield batch_x,batch_y"
      ],
      "execution_count": 0,
      "outputs": []
    },
    {
      "cell_type": "code",
      "metadata": {
        "id": "VSop85Y7FLWV",
        "colab_type": "code",
        "colab": {}
      },
      "source": [
        "epochs = 200\n",
        "train_collect = 50\n",
        "train_print=train_collect*2\n",
        "\n",
        "learning_rate_value = 0.001\n",
        "batch_size=16\n",
        "\n",
        "x_collect = []\n",
        "train_loss_collect = []\n",
        "train_acc_collect = []\n",
        "valid_loss_collect = []\n",
        "valid_acc_collect = []\n",
        "\n",
        "saver = tf.train.Saver()\n",
        "with tf.Session() as sess:\n",
        "  sess.run(tf.global_variables_initializer())\n",
        "  iteration=0\n",
        "  for e in range(epochs):\n",
        "    for batch_x,batch_y in get_batch(train_x,train_y,batch_size):\n",
        "      iteration+=1\n",
        "      feed = {model.inputs: train_x, \n",
        "              model.labels: train_y, \n",
        "              model.learning_rate: learning_rate_value, \n",
        "              model.is_training:True}\n",
        "\n",
        "      train_loss, _, train_acc = sess.run([model.cost, model.optimizer, model.accuracy], feed_dict=feed)\n",
        "      \n",
        "      if iteration % train_collect == 0:\n",
        "        ##\n",
        "        x_collect.append(e)\n",
        "        train_loss_collect.append(train_loss)\n",
        "        train_acc_collect.append(train_acc)\n",
        "\n",
        "        if iteration % train_print==0:\n",
        "          ##\n",
        "          print(\"Epoch: {}/{}\".format(e + 1, epochs),\n",
        "          \"Train Loss: {:.4f}\".format(train_loss),\n",
        "          \"Train Acc: {:.4f}\".format(train_acc))\n",
        "                \n",
        "        feed = {model.inputs: valid_x,\n",
        "                model.labels: valid_y,\n",
        "                model.is_training:False}\n",
        "        val_loss, val_acc = sess.run([model.cost, model.accuracy], feed_dict=feed)\n",
        "        valid_loss_collect.append(val_loss)\n",
        "        valid_acc_collect.append(val_acc)\n",
        "        \n",
        "        if iteration % train_print==0:\n",
        "          ##\n",
        "          print(\"Epoch: {}/{}\".format(e + 1, epochs), \n",
        "                \"Validation Loss: {:.4f}\".format(val_loss), \n",
        "                \"Validation Acc: {:.4f}\".format(val_acc))\n",
        "  \n",
        "  saver.save(sess, \"./titanic.ckpt\")"
      ],
      "execution_count": 0,
      "outputs": []
    },
    {
      "cell_type": "code",
      "metadata": {
        "id": "u4Dq-yDXFR1o",
        "colab_type": "code",
        "colab": {}
      },
      "source": [
        "plt.plot(x_collect, train_loss_collect, \"r--\")\n",
        "plt.plot(x_collect, valid_loss_collect, \"g^\")\n",
        "plt.show()"
      ],
      "execution_count": 0,
      "outputs": []
    },
    {
      "cell_type": "code",
      "metadata": {
        "id": "S27A0TImFdXk",
        "colab_type": "code",
        "colab": {}
      },
      "source": [
        "plt.plot(x_collect, train_acc_collect, \"r--\")\n",
        "plt.plot(x_collect, valid_acc_collect, \"g^\")\n",
        "plt.show()"
      ],
      "execution_count": 0,
      "outputs": []
    },
    {
      "cell_type": "code",
      "metadata": {
        "id": "nbyuA8m_FhiP",
        "colab_type": "code",
        "colab": {}
      },
      "source": [
        "model=build_neural_network()\n",
        "restorer=tf.train.Saver()\n",
        "with tf.Session() as sess:\n",
        "  restorer.restore(sess,\"./titanic.ckpt\")\n",
        "  feed={\n",
        "      model.inputs:test_data,\n",
        "      model.is_training:False\n",
        "  }\n",
        "  test_predict=sess.run(model.predicted,feed_dict=feed)\n",
        "\n",
        "test_predict[:10]"
      ],
      "execution_count": 0,
      "outputs": []
    },
    {
      "cell_type": "code",
      "metadata": {
        "id": "wl15aQN-Fj69",
        "colab_type": "code",
        "colab": {}
      },
      "source": [
        "from sklearn.preprocessing import Binarizer\n",
        "binarizer=Binarizer(0.5)\n",
        "test_predict_result=binarizer.fit_transform(test_predict)\n",
        "test_predict_result=test_predict_result.astype(np.int32)\n",
        "test_predict_result[:10]"
      ],
      "execution_count": 0,
      "outputs": []
    },
    {
      "cell_type": "code",
      "metadata": {
        "id": "PAd8FzPQFl6r",
        "colab_type": "code",
        "colab": {}
      },
      "source": [
        "passenger_id=test_passenger_id.copy()\n",
        "evaluation=passenger_id.to_frame()\n",
        "evaluation[\"Survived\"]=test_predict_result\n",
        "evaluation[:10]"
      ],
      "execution_count": 0,
      "outputs": []
    },
    {
      "cell_type": "code",
      "metadata": {
        "id": "rcAYsSqrFoRu",
        "colab_type": "code",
        "colab": {}
      },
      "source": [
        "evaluation.to_csv(\"evaluation_submission.csv\",index=False)"
      ],
      "execution_count": 0,
      "outputs": []
    }
  ]
}